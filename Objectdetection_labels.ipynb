{
 "cells": [
  {
   "cell_type": "code",
   "execution_count": 1,
   "id": "023270dc-d408-499e-920e-35578d3890dc",
   "metadata": {},
   "outputs": [],
   "source": [
    "import cv2\n",
    "import torch\n",
    "from pathlib import Path\n",
    "import matplotlib.pyplot as plt\n",
    "from PIL import Image\n",
    "import numpy as np"
   ]
  },
  {
   "cell_type": "code",
   "execution_count": 2,
   "id": "6b13e924-5365-4a6d-a8bc-8a3a344efe33",
   "metadata": {},
   "outputs": [
    {
     "name": "stderr",
     "output_type": "stream",
     "text": [
      "Using cache found in C:\\Users\\Prabhu/.cache\\torch\\hub\\ultralytics_yolov5_master\n",
      "YOLOv5  2024-11-15 Python-3.12.4 torch-2.5.1+cpu CPU\n",
      "\n",
      "Fusing layers... \n",
      "YOLOv5s summary: 213 layers, 7225885 parameters, 0 gradients, 16.4 GFLOPs\n",
      "Adding AutoShape... \n"
     ]
    }
   ],
   "source": [
    "# Load the YOLOv5 model\n",
    "model = torch.hub.load('ultralytics/yolov5', 'yolov5s', pretrained=True)"
   ]
  },
  {
   "cell_type": "code",
   "execution_count": 3,
   "id": "fa09dd26-c9bc-41f6-ae94-390ebe1c889e",
   "metadata": {},
   "outputs": [],
   "source": [
    "# Define the dataset path\n",
    "dataset_path = Path(r\"C:\\HOPEAI\\AICourse\\Projects\\Practice3\\images\")  # Replace with your dataset path\n",
    "images = list(dataset_path.glob(\"*.jpg\"))  # List of all .jpg files"
   ]
  },
  {
   "cell_type": "code",
   "execution_count": 4,
   "id": "fafa2d28-c9a5-44ae-b894-abc2a643ba80",
   "metadata": {},
   "outputs": [
    {
     "data": {
      "text/plain": [
       "[WindowsPath('C:/HOPEAI/AICourse/Projects/Practice3/images/image1.jpg'),\n",
       " WindowsPath('C:/HOPEAI/AICourse/Projects/Practice3/images/image2.jpg'),\n",
       " WindowsPath('C:/HOPEAI/AICourse/Projects/Practice3/images/images3.jpg'),\n",
       " WindowsPath('C:/HOPEAI/AICourse/Projects/Practice3/images/images4.jpg'),\n",
       " WindowsPath('C:/HOPEAI/AICourse/Projects/Practice3/images/images5.jpg'),\n",
       " WindowsPath('C:/HOPEAI/AICourse/Projects/Practice3/images/images7.jpg'),\n",
       " WindowsPath('C:/HOPEAI/AICourse/Projects/Practice3/images/images8.jpg')]"
      ]
     },
     "execution_count": 4,
     "metadata": {},
     "output_type": "execute_result"
    }
   ],
   "source": [
    "images"
   ]
  },
  {
   "cell_type": "code",
   "execution_count": 36,
   "id": "1f6e2327-17bd-4e0b-bcd9-29d2d613fcc8",
   "metadata": {},
   "outputs": [
    {
     "name": "stdout",
     "output_type": "stream",
     "text": [
      "Detections found. Processing bounding boxes...\n",
      "Label: car 0.71 at position: (13, 42)\n"
     ]
    },
    {
     "name": "stderr",
     "output_type": "stream",
     "text": [
      "C:\\Users\\Prabhu/.cache\\torch\\hub\\ultralytics_yolov5_master\\models\\common.py:892: FutureWarning: `torch.cuda.amp.autocast(args...)` is deprecated. Please use `torch.amp.autocast('cuda', args...)` instead.\n",
      "  with amp.autocast(autocast):\n"
     ]
    }
   ],
   "source": [
    "def predict_and_display(image_path):\n",
    "    # Load the image and convert to BGR for OpenCV compatibility\n",
    "    img = Image.open(image_path)\n",
    "    img = np.array(img)  # Convert to a numpy array for OpenCV compatibility\n",
    "    img = cv2.cvtColor(img, cv2.COLOR_RGB2BGR)  # Convert RGB to BGR for OpenCV\n",
    "\n",
    "    # Run YOLOv5 model on the image\n",
    "    results = model(img)\n",
    "\n",
    "    # Check if there are any detections\n",
    "    if results.xyxy[0].shape[0] > 0:\n",
    "        print(\"Detections found. Processing bounding boxes...\")\n",
    "        for detection in results.xyxy[0]:  # Each detection\n",
    "            x_min, y_min, x_max, y_max, confidence, class_id = detection[:6]\n",
    "            x_min, y_min, x_max, y_max = map(int, [x_min, y_min, x_max, y_max])\n",
    "            confidence = float(confidence)\n",
    "            label = model.names[int(class_id)]\n",
    "            \n",
    "            # Draw the bounding box\n",
    "            cv2.rectangle(img, (x_min, y_min), (x_max, y_max), color=(255, 0, 0), thickness=2)\n",
    "            \n",
    "            # Prepare label with confidence\n",
    "            label_with_conf = f\"{label} {confidence:.2f}\"\n",
    "            print(f\"Label: {label_with_conf} at position: ({x_min}, {y_min})\")  # Print label and position\n",
    "            \n",
    "            # Get the label size\n",
    "            (label_width, label_height), baseline = cv2.getTextSize(label_with_conf, cv2.FONT_HERSHEY_SIMPLEX, 0.5, 2)\n",
    "            \n",
    "            # Draw the label background\n",
    "            cv2.rectangle(img, (x_min, y_min - label_height - baseline), \n",
    "                          (x_min + label_width, y_min), (255, 0, 0), -1)\n",
    "            \n",
    "            # Put the label text on the image\n",
    "            cv2.putText(img, label_with_conf, (x_min, y_min - 5), \n",
    "                        cv2.FONT_HERSHEY_SIMPLEX, 0.5, (255, 255, 255), 2)\n",
    "\n",
    "        # Convert BGR image back to RGB for matplotlib display\n",
    "        img_rgb = cv2.cvtColor(img, cv2.COLOR_BGR2RGB)\n",
    "        plt.imshow(img_rgb)\n",
    "        plt.axis(\"off\")\n",
    "        plt.show()\n",
    "    else:\n",
    "        print(\"No detections were made on this image.\")\n",
    "\n",
    "# Test on one image\n",
    "predict_and_display(r'C:\\HOPEAI\\AICourse\\Projects\\Practice3\\images\\image1.jpg')\n"
   ]
  },
  {
   "cell_type": "code",
   "execution_count": 34,
   "id": "966ff866-d0a3-471b-bf76-d233d0dc0864",
   "metadata": {},
   "outputs": [
    {
     "name": "stderr",
     "output_type": "stream",
     "text": [
      "C:\\Users\\Prabhu/.cache\\torch\\hub\\ultralytics_yolov5_master\\models\\common.py:892: FutureWarning: `torch.cuda.amp.autocast(args...)` is deprecated. Please use `torch.amp.autocast('cuda', args...)` instead.\n",
      "  with amp.autocast(autocast):\n"
     ]
    }
   ],
   "source": [
    "# Test on one image\n",
    "predict_and_display(r'C:\\HOPEAI\\AICourse\\Projects\\Practice3\\images\\image1.jpg')"
   ]
  },
  {
   "cell_type": "code",
   "execution_count": 37,
   "id": "852f037f-97ca-4ab3-b14f-1ea5724f5f73",
   "metadata": {},
   "outputs": [
    {
     "name": "stdout",
     "output_type": "stream",
     "text": [
      "Processing: C:\\HOPEAI\\AICourse\\Projects\\Practice3\\images\\image1.jpg\n",
      "Detections found. Processing bounding boxes...\n",
      "Label: car 0.71 at position: (13, 42)\n",
      "Processing: C:\\HOPEAI\\AICourse\\Projects\\Practice3\\images\\image2.jpg\n"
     ]
    },
    {
     "name": "stderr",
     "output_type": "stream",
     "text": [
      "C:\\Users\\Prabhu/.cache\\torch\\hub\\ultralytics_yolov5_master\\models\\common.py:892: FutureWarning: `torch.cuda.amp.autocast(args...)` is deprecated. Please use `torch.amp.autocast('cuda', args...)` instead.\n",
      "  with amp.autocast(autocast):\n",
      "C:\\Users\\Prabhu/.cache\\torch\\hub\\ultralytics_yolov5_master\\models\\common.py:892: FutureWarning: `torch.cuda.amp.autocast(args...)` is deprecated. Please use `torch.amp.autocast('cuda', args...)` instead.\n",
      "  with amp.autocast(autocast):\n"
     ]
    },
    {
     "name": "stdout",
     "output_type": "stream",
     "text": [
      "Detections found. Processing bounding boxes...\n",
      "Label: car 0.85 at position: (77, 121)\n",
      "Label: tv 0.66 at position: (197, 113)\n",
      "Label: clock 0.61 at position: (16, 120)\n",
      "Label: clock 0.33 at position: (89, 156)\n",
      "Label: tv 0.33 at position: (10, 23)\n",
      "Processing: C:\\HOPEAI\\AICourse\\Projects\\Practice3\\images\\images3.jpg\n",
      "No detections were made on this image.\n",
      "Processing: C:\\HOPEAI\\AICourse\\Projects\\Practice3\\images\\images4.jpg\n"
     ]
    },
    {
     "name": "stderr",
     "output_type": "stream",
     "text": [
      "C:\\Users\\Prabhu/.cache\\torch\\hub\\ultralytics_yolov5_master\\models\\common.py:892: FutureWarning: `torch.cuda.amp.autocast(args...)` is deprecated. Please use `torch.amp.autocast('cuda', args...)` instead.\n",
      "  with amp.autocast(autocast):\n",
      "C:\\Users\\Prabhu/.cache\\torch\\hub\\ultralytics_yolov5_master\\models\\common.py:892: FutureWarning: `torch.cuda.amp.autocast(args...)` is deprecated. Please use `torch.amp.autocast('cuda', args...)` instead.\n",
      "  with amp.autocast(autocast):\n"
     ]
    },
    {
     "name": "stdout",
     "output_type": "stream",
     "text": [
      "Detections found. Processing bounding boxes...\n",
      "Label: clock 0.87 at position: (131, 136)\n",
      "Label: refrigerator 0.83 at position: (9, 54)\n",
      "Label: chair 0.74 at position: (73, 46)\n",
      "Processing: C:\\HOPEAI\\AICourse\\Projects\\Practice3\\images\\images5.jpg\n",
      "No detections were made on this image.\n",
      "Processing: C:\\HOPEAI\\AICourse\\Projects\\Practice3\\images\\images7.jpg\n"
     ]
    },
    {
     "name": "stderr",
     "output_type": "stream",
     "text": [
      "C:\\Users\\Prabhu/.cache\\torch\\hub\\ultralytics_yolov5_master\\models\\common.py:892: FutureWarning: `torch.cuda.amp.autocast(args...)` is deprecated. Please use `torch.amp.autocast('cuda', args...)` instead.\n",
      "  with amp.autocast(autocast):\n",
      "C:\\Users\\Prabhu/.cache\\torch\\hub\\ultralytics_yolov5_master\\models\\common.py:892: FutureWarning: `torch.cuda.amp.autocast(args...)` is deprecated. Please use `torch.amp.autocast('cuda', args...)` instead.\n",
      "  with amp.autocast(autocast):\n"
     ]
    },
    {
     "name": "stdout",
     "output_type": "stream",
     "text": [
      "Detections found. Processing bounding boxes...\n",
      "Label: person 0.60 at position: (101, 16)\n",
      "Label: person 0.52 at position: (18, 65)\n",
      "Processing: C:\\HOPEAI\\AICourse\\Projects\\Practice3\\images\\images8.jpg\n",
      "No detections were made on this image.\n"
     ]
    },
    {
     "name": "stderr",
     "output_type": "stream",
     "text": [
      "C:\\Users\\Prabhu/.cache\\torch\\hub\\ultralytics_yolov5_master\\models\\common.py:892: FutureWarning: `torch.cuda.amp.autocast(args...)` is deprecated. Please use `torch.amp.autocast('cuda', args...)` instead.\n",
      "  with amp.autocast(autocast):\n"
     ]
    }
   ],
   "source": [
    "for image_path in images:\n",
    "    print(f\"Processing: {image_path}\")\n",
    "    predict_and_display(image_path)\n"
   ]
  },
  {
   "cell_type": "code",
   "execution_count": null,
   "id": "88440cb4-215a-4899-b7e0-37cdab9bb8bc",
   "metadata": {},
   "outputs": [],
   "source": []
  }
 ],
 "metadata": {
  "kernelspec": {
   "display_name": "Python 3 (ipykernel)",
   "language": "python",
   "name": "python3"
  },
  "language_info": {
   "codemirror_mode": {
    "name": "ipython",
    "version": 3
   },
   "file_extension": ".py",
   "mimetype": "text/x-python",
   "name": "python",
   "nbconvert_exporter": "python",
   "pygments_lexer": "ipython3",
   "version": "3.12.4"
  }
 },
 "nbformat": 4,
 "nbformat_minor": 5
}
